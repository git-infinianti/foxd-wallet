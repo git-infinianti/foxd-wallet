{
 "cells": [
  {
   "cell_type": "code",
   "execution_count": 2,
   "metadata": {},
   "outputs": [],
   "source": [
    "emoji = '''\n",
    "🪪 🪧 🗿 ⚱️ 🪦 ⚰️ 🚬 🛒 🧯 🧽 🪥 🫧 🧼 🪣 🧻 🧺 🧹 \n",
    "🧷 🧴 🪒 🪤 🛁 🚿 🪠 🚽 🪑 🛋️ 🛏️ 🪟 🪞 🛗 🚪 🩻 🩺 \n",
    "🩼 🩹 💊 🩸 💉 📡 🔭 🔬 🧬 🧫 🧪 ⚗️ 🪜 🧲 🧰 🪝 ⛓️ \n",
    "🔗 🦯 ⚖️ 🗜️ ⚙️ 🔩 🪛 🔧 🪚 🛡️ 🏹 🪃 🔫 ⚔️ 🗡️ 🛠️ ⚒️ \n",
    "⛏️ 🪓 🔨 🗝️ 🔑 🔐 🔏 🔓 🔒 🗑️ 🗄️ 🗃️ ✂️ 📐 📏 🖇️ 🗓️ \n",
    "📇 📈 📉 📊 📋 📌 📍 📎 🗒️ 📆 📅 🗂️ 📂 📁 💼 📝 🖍️ \n",
    "📬 📭 📮 🗳️ ✏️ ✒️ 🖋️ 🖊️ 🖌️ 📪 📫 📦 📥 📤 📩 📨 📧 \n",
    "✉️ 🪙 💴 💵 💶 💷 💸 💳 🧾 💹 💰 🏷️ 🔖 📑 🗞️ 📰 📄 \n",
    "📜 📃 📔 📕 📖 📗 📘 📙 📚 📓 📒 🪔 🏮 🔦 💡 🕯️ 🔎 \n",
    "🔍 📼 📹 📀 🧮 🎥 🎞️ 📽️ 🎬 📺 📷 📸 💿 💾 💽 🖲️ 🖱️ \n",
    "⌨️ 🖨️ 🖥️ 💻 📱 📲 ☎️ 📞 📟 📠 🔋 🪫 🔌 🪘 🥁 🪕 🎻 \n",
    "🎺 🎹 🎸 🪗 🎷 📻 🎧 🎤 🎛️ 🎚️ 🎙️ 🎶 🎵 🎼 🔇 🔈 🔉 \n",
    "🔊 📢 📣 📯 🔔 🔕 💎 💍 💄 📿 ⛑️ 🪖 🧢 🎓 🎩 👒 👑 \n",
    "👢 🩰 👡 👠 🥿 🥾 👟 👞 🩴 🎒 🛍️ 👝 👜 👛 👚 👙 🩳 \n",
    "🩲 🩱 🥻 👘 👗 🧦 🧥 🧤 🧣 👖 👕 👔 🦺 🥼 🥽 🕶️ 👓\n",
    "'''\n",
    "emotes = emoji.split(' ')"
   ]
  },
  {
   "cell_type": "code",
   "execution_count": 3,
   "metadata": {},
   "outputs": [],
   "source": [
    "emoji = '''\n",
    "🅾️ 🆑 🅱️ 🆎 🅰️ 🆘 🆚 🆔 Ⓜ️ 🆕 \n",
    "🆖 🆗 🅿️ 🆙 🈁 🆓 🆒 7️⃣ 8️⃣ 9️⃣ \n",
    "🔟 🔠 🔡 🔢 🔣 🔤 6️⃣ 5️⃣ 4️⃣ 3️⃣ \n",
    "2️⃣ 1️⃣ 0️⃣ *️⃣ #️⃣ ✳️ ✴️ ❇️ ❎ ❌ \n",
    "✔️ ☑️ ✅ ⭕ 🔰 📛 🔱 ❔ ❕ ❗ \n",
    "〰️ 💱 💲 ⚕️ ♻️ ⚜️ ❓ ♾️ 🟰 ➗ \n",
    "➖ ➕ ✖️ 🎦 🔅 🔆 📶 📳 📴 ⚧️ \n",
    "⏏️ ⏺️ ⏹️ ⏸️ ⏬ 🔽 ⏫ 🔼 ⏮️ 🔀 \n",
    "🔁 🔂 ▶️ ⏩ ⏭️ ⏯️ ◀️ ⏪ ⛎ ♓ \n",
    "♒ ♑ ♐ ♏ ♎ ♍ ♌ ☦️ ☪️ ☮️ \n",
    "🕎 🔯 ♈ ♉ ♊ ♋ ✝️ ☯️ ☸️ ✡️ \n",
    "🕉️ ⚛️ 🛐 🔝 🔜 ↩️ ↪️ ⤴️ ⤵️ 🔃 \n",
    "🔄 🔙 🔚 🔛 ↖️ ⬅️ ↙️ ⬇️ ↘️ ➡️ \n",
    "↗️ ⬆️ ☣️ ☢️ 🔞 📵 🚷 🚱 🚯 🚭 \n",
    "🚳 🚫 ⛔ 🚸 ⚠️ 🛅 🛄 🛃 🛂 🚾 \n",
    "🚼 🚻 🚺 🚹 ♿ 🚰 🚮 🏧 \n",
    "'''\n",
    "emotes = emotes + emoji.split(' ')"
   ]
  },
  {
   "cell_type": "code",
   "execution_count": null,
   "metadata": {},
   "outputs": [],
   "source": [
    "from json import dump\n",
    "with open('emoji.json', 'w') as f: dump(emotes, f)"
   ]
  }
 ],
 "metadata": {
  "kernelspec": {
   "display_name": "venv",
   "language": "python",
   "name": "python3"
  },
  "language_info": {
   "codemirror_mode": {
    "name": "ipython",
    "version": 3
   },
   "file_extension": ".py",
   "mimetype": "text/x-python",
   "name": "python",
   "nbconvert_exporter": "python",
   "pygments_lexer": "ipython3",
   "version": "3.10.11"
  },
  "orig_nbformat": 4
 },
 "nbformat": 4,
 "nbformat_minor": 2
}
